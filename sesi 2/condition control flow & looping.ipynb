{
 "cells": [
  {
   "cell_type": "code",
   "execution_count": 1,
   "id": "6f52c33e",
   "metadata": {},
   "outputs": [
    {
     "name": "stdout",
     "output_type": "stream",
     "text": [
      "yes\n"
     ]
    }
   ],
   "source": [
    "x = 0\n",
    "y = 5\n",
    "if x<y :\n",
    "    print('yes')"
   ]
  },
  {
   "cell_type": "code",
   "execution_count": 4,
   "id": "7b220d6f",
   "metadata": {},
   "outputs": [
    {
     "name": "stdout",
     "output_type": "stream",
     "text": [
      "0 5\n"
     ]
    }
   ],
   "source": [
    "print(x,y)"
   ]
  },
  {
   "cell_type": "code",
   "execution_count": 5,
   "id": "17d08f6d",
   "metadata": {},
   "outputs": [],
   "source": [
    "if y<x:\n",
    "    print('yes')"
   ]
  },
  {
   "cell_type": "code",
   "execution_count": 6,
   "id": "67e83c37",
   "metadata": {},
   "outputs": [
    {
     "name": "stdout",
     "output_type": "stream",
     "text": [
      "0 <class 'int'>\n"
     ]
    }
   ],
   "source": [
    "print(x, type(x))"
   ]
  },
  {
   "cell_type": "code",
   "execution_count": 7,
   "id": "2bc93659",
   "metadata": {},
   "outputs": [
    {
     "name": "stdout",
     "output_type": "stream",
     "text": [
      "5 <class 'int'>\n"
     ]
    }
   ],
   "source": [
    "print(y,type(y))"
   ]
  },
  {
   "cell_type": "code",
   "execution_count": 8,
   "id": "1bf9d33d",
   "metadata": {},
   "outputs": [
    {
     "name": "stdout",
     "output_type": "stream",
     "text": [
      "yes\n"
     ]
    }
   ],
   "source": [
    "if y:\n",
    "    print('yes')"
   ]
  },
  {
   "cell_type": "code",
   "execution_count": 9,
   "id": "3a72d4a4",
   "metadata": {},
   "outputs": [
    {
     "name": "stdout",
     "output_type": "stream",
     "text": [
      "yes\n"
     ]
    }
   ],
   "source": [
    "if 'aul' in 'grault' :\n",
    "    print ('yes')"
   ]
  },
  {
   "cell_type": "code",
   "execution_count": 10,
   "id": "87af4dec",
   "metadata": {},
   "outputs": [
    {
     "name": "stdout",
     "output_type": "stream",
     "text": [
      "True\n"
     ]
    }
   ],
   "source": [
    "print('aul' in 'grault')"
   ]
  },
  {
   "cell_type": "code",
   "execution_count": 11,
   "id": "1b0e6df9",
   "metadata": {},
   "outputs": [
    {
     "name": "stdout",
     "output_type": "stream",
     "text": [
      "False\n"
     ]
    }
   ],
   "source": [
    "print('alu' in 'grault')"
   ]
  },
  {
   "cell_type": "code",
   "execution_count": 12,
   "id": "dfaea667",
   "metadata": {},
   "outputs": [],
   "source": [
    "if 'quux' in ['foo', 'bar', 'baz']:\n",
    "    print('yes')"
   ]
  },
  {
   "cell_type": "code",
   "execution_count": 15,
   "id": "71d49a5e",
   "metadata": {},
   "outputs": [
    {
     "name": "stdout",
     "output_type": "stream",
     "text": [
      "found!\n"
     ]
    }
   ],
   "source": [
    "keyword = 'hello'\n",
    "words = ['hello', 'time', 'stories']\n",
    "\n",
    "if keyword in words:\n",
    "    print ('found!')"
   ]
  },
  {
   "cell_type": "code",
   "execution_count": 17,
   "id": "802dd4a0",
   "metadata": {},
   "outputs": [
    {
     "name": "stdout",
     "output_type": "stream",
     "text": [
      "mow the lawn\n",
      "weed the garden\n",
      "take the dig for a walk\n"
     ]
    }
   ],
   "source": [
    "weather = 'nice'\n",
    "if weather == 'nice':\n",
    "    print('mow the lawn')\n",
    "    print('weed the garden')\n",
    "    print('take the dig for a walk')"
   ]
  },
  {
   "cell_type": "code",
   "execution_count": 19,
   "id": "191aad5a",
   "metadata": {},
   "outputs": [
    {
     "name": "stdout",
     "output_type": "stream",
     "text": [
      "mow the lawn\n",
      "weed the garden\n",
      "take the dig for a walk\n",
      "selesai memutuskan\n"
     ]
    }
   ],
   "source": [
    "weather = 'nice'\n",
    "if weather == 'nice':\n",
    "    print('mow the lawn')\n",
    "    print('weed the garden')\n",
    "    print('take the dig for a walk')\n",
    "    \n",
    "print('selesai memutuskan')"
   ]
  },
  {
   "cell_type": "code",
   "execution_count": 20,
   "id": "ca02bd1e",
   "metadata": {},
   "outputs": [
    {
     "name": "stdout",
     "output_type": "stream",
     "text": [
      "expression is true\n",
      "...\n"
     ]
    }
   ],
   "source": [
    "#if 'foo' in ['bar', 'baz', 'qux']:\n",
    "if 'qux' in ['bar', 'baz', 'qux']:\n",
    "    print('expression is true')\n",
    "    print('...')"
   ]
  },
  {
   "cell_type": "code",
   "execution_count": 23,
   "id": "ef0efbdb",
   "metadata": {},
   "outputs": [
    {
     "name": "stdout",
     "output_type": "stream",
     "text": [
      "x is  20\n",
      "---------------\n",
      "(first suite)\n",
      "x is small\n"
     ]
    }
   ],
   "source": [
    "print('x is ', x)\n",
    "print('-'*15)\n",
    "x = 20\n",
    "if x < 50:\n",
    "    print('(first suite)')\n",
    "    print('x is small')\n",
    "else:\n",
    "    print('(second suite)')\n",
    "    print('x is large')"
   ]
  },
  {
   "cell_type": "code",
   "execution_count": 32,
   "id": "92900d69",
   "metadata": {},
   "outputs": [
    {
     "name": "stdout",
     "output_type": "stream",
     "text": [
      "uang :  4000\n",
      "harga buku :  20000\n",
      "uang tidak cukup\n"
     ]
    }
   ],
   "source": [
    "harga_buku = 20000\n",
    "harga_majalah = 5000\n",
    "uang = 4000\n",
    "\n",
    "print('uang : ', uang)\n",
    "print('harga buku : ', harga_buku)\n",
    "if uang>harga_buku:\n",
    "    print('beli buku')\n",
    "elif uang>harga_majalah:\n",
    "    print('beli majalah')\n",
    "else:\n",
    "    print('uang tidak cukup')"
   ]
  },
  {
   "cell_type": "markdown",
   "id": "ba24ff40",
   "metadata": {},
   "source": [
    "while i<len(students):\n",
    "    hitung_rata_rata(students[i])\n",
    "    "
   ]
  },
  {
   "cell_type": "code",
   "execution_count": 34,
   "id": "c97b3d28",
   "metadata": {},
   "outputs": [
    {
     "name": "stdout",
     "output_type": "stream",
     "text": [
      "4\n",
      "3\n",
      "2\n",
      "1\n",
      "0\n"
     ]
    }
   ],
   "source": [
    "'''\n",
    "n-=1\n",
    "sama dengan\n",
    "n-= sama dengan n=n-1 n=5-1'''\n",
    "\n",
    "n = 5\n",
    "while n>0:\n",
    "    n -= 1\n",
    "    print(n)"
   ]
  },
  {
   "cell_type": "code",
   "execution_count": 35,
   "id": "6f879db4",
   "metadata": {},
   "outputs": [
    {
     "name": "stdout",
     "output_type": "stream",
     "text": [
      "1\n",
      "2\n",
      "3\n",
      "4\n",
      "5\n"
     ]
    }
   ],
   "source": [
    "i=1\n",
    "while i<6:\n",
    "    print(i)\n",
    "    i+=1"
   ]
  },
  {
   "cell_type": "code",
   "execution_count": 36,
   "id": "046ed7de",
   "metadata": {},
   "outputs": [
    {
     "name": "stdout",
     "output_type": "stream",
     "text": [
      "4\n",
      "3\n",
      "1\n",
      "0\n",
      "loop ended.\n"
     ]
    }
   ],
   "source": [
    "n = 5\n",
    "while n>0:\n",
    "    n -= 1\n",
    "    if n==2 :\n",
    "        continue\n",
    "        \n",
    "    print(n)\n",
    "print('loop ended.')"
   ]
  },
  {
   "cell_type": "code",
   "execution_count": 37,
   "id": "b578a7a4",
   "metadata": {},
   "outputs": [
    {
     "name": "stdout",
     "output_type": "stream",
     "text": [
      "4\n",
      "-----\n",
      "loop ended.\n"
     ]
    }
   ],
   "source": [
    "n = 5\n",
    "while n>0:\n",
    "    n -= 1\n",
    "    if n==3 :\n",
    "        break\n",
    "        \n",
    "    print(n)\n",
    "    \n",
    "    if n== 2:\n",
    "        continue\n",
    "    print('-'*5)\n",
    "print('loop ended.')"
   ]
  },
  {
   "cell_type": "code",
   "execution_count": null,
   "id": "c6da5a69",
   "metadata": {},
   "outputs": [],
   "source": [
    "while true:\n",
    "    msg =input(\"ketikan karakter:\").lower()"
   ]
  }
 ],
 "metadata": {
  "kernelspec": {
   "display_name": "Python 3 (ipykernel)",
   "language": "python",
   "name": "python3"
  },
  "language_info": {
   "codemirror_mode": {
    "name": "ipython",
    "version": 3
   },
   "file_extension": ".py",
   "mimetype": "text/x-python",
   "name": "python",
   "nbconvert_exporter": "python",
   "pygments_lexer": "ipython3",
   "version": "3.10.4"
  }
 },
 "nbformat": 4,
 "nbformat_minor": 5
}
